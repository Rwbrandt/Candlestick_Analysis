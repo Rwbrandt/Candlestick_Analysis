{
 "cells": [
  {
   "cell_type": "code",
   "execution_count": 1,
   "id": "032ea07d-6e0d-4228-8292-51e7e555f978",
   "metadata": {},
   "outputs": [],
   "source": [
    "import numpy as np  # noqa\n",
    "import pandas as pd  # noqa\n",
    "from pandas import DataFrame\n",
    "import matplotlib.pyplot as plt\n",
    "from datetime import datetime, timedelta\n",
    "import plotly.graph_objects as go\n",
    "import os\n",
    "from pathlib import Path\n",
    "import talib as ta\n",
    "import yfinance as yf\n",
    "from talib import MA_Type as ma\n",
    "import pandas as pd\n"
   ]
  },
  {
   "cell_type": "code",
   "execution_count": 8,
   "id": "718bfcf0-6edd-4a1e-9363-f60017fd64c7",
   "metadata": {},
   "outputs": [],
   "source": [
    "asset = \"ETH-USD\" #ticker symbol or crypto \"BTC-USD\"\n",
    "inter = \"5m\" #stocks use 1m crypto use 5m\n",
    "period = \"15d\" #crypto use 14d stocks 7d\n",
    "timeperiod = 30\n",
    "std = 1.5"
   ]
  },
  {
   "cell_type": "code",
   "execution_count": 9,
   "id": "0417c897-2b41-4235-827d-762aedc34979",
   "metadata": {},
   "outputs": [
    {
     "name": "stdout",
     "output_type": "stream",
     "text": [
      "[*********************100%***********************]  1 of 1 completed\n"
     ]
    }
   ],
   "source": [
    "df = yf.download(tickers={asset}, period = period, interval = inter , rounding= True)"
   ]
  },
  {
   "cell_type": "code",
   "execution_count": 10,
   "id": "51f95eae-9e82-4062-8e98-38b1f7e5297b",
   "metadata": {},
   "outputs": [
    {
     "data": {
      "text/html": [
       "<div>\n",
       "<style scoped>\n",
       "    .dataframe tbody tr th:only-of-type {\n",
       "        vertical-align: middle;\n",
       "    }\n",
       "\n",
       "    .dataframe tbody tr th {\n",
       "        vertical-align: top;\n",
       "    }\n",
       "\n",
       "    .dataframe thead th {\n",
       "        text-align: right;\n",
       "    }\n",
       "</style>\n",
       "<table border=\"1\" class=\"dataframe\">\n",
       "  <thead>\n",
       "    <tr style=\"text-align: right;\">\n",
       "      <th></th>\n",
       "      <th>Open</th>\n",
       "      <th>High</th>\n",
       "      <th>Low</th>\n",
       "      <th>Close</th>\n",
       "      <th>Adj Close</th>\n",
       "      <th>Volume</th>\n",
       "    </tr>\n",
       "    <tr>\n",
       "      <th>Datetime</th>\n",
       "      <th></th>\n",
       "      <th></th>\n",
       "      <th></th>\n",
       "      <th></th>\n",
       "      <th></th>\n",
       "      <th></th>\n",
       "    </tr>\n",
       "  </thead>\n",
       "  <tbody>\n",
       "    <tr>\n",
       "      <th>2022-01-06 00:00:00+00:00</th>\n",
       "      <td>3545.65</td>\n",
       "      <td>3545.65</td>\n",
       "      <td>3536.39</td>\n",
       "      <td>3536.39</td>\n",
       "      <td>3536.39</td>\n",
       "      <td>0</td>\n",
       "    </tr>\n",
       "    <tr>\n",
       "      <th>2022-01-06 00:05:00+00:00</th>\n",
       "      <td>3536.30</td>\n",
       "      <td>3538.52</td>\n",
       "      <td>3536.30</td>\n",
       "      <td>3538.47</td>\n",
       "      <td>3538.47</td>\n",
       "      <td>52967424</td>\n",
       "    </tr>\n",
       "    <tr>\n",
       "      <th>2022-01-06 00:10:00+00:00</th>\n",
       "      <td>3538.58</td>\n",
       "      <td>3538.91</td>\n",
       "      <td>3535.28</td>\n",
       "      <td>3538.91</td>\n",
       "      <td>3538.91</td>\n",
       "      <td>15769600</td>\n",
       "    </tr>\n",
       "    <tr>\n",
       "      <th>2022-01-06 00:15:00+00:00</th>\n",
       "      <td>3541.70</td>\n",
       "      <td>3546.87</td>\n",
       "      <td>3541.70</td>\n",
       "      <td>3546.87</td>\n",
       "      <td>3546.87</td>\n",
       "      <td>103151616</td>\n",
       "    </tr>\n",
       "    <tr>\n",
       "      <th>2022-01-06 00:20:00+00:00</th>\n",
       "      <td>3544.46</td>\n",
       "      <td>3544.46</td>\n",
       "      <td>3531.40</td>\n",
       "      <td>3531.40</td>\n",
       "      <td>3531.40</td>\n",
       "      <td>405878784</td>\n",
       "    </tr>\n",
       "    <tr>\n",
       "      <th>...</th>\n",
       "      <td>...</td>\n",
       "      <td>...</td>\n",
       "      <td>...</td>\n",
       "      <td>...</td>\n",
       "      <td>...</td>\n",
       "      <td>...</td>\n",
       "    </tr>\n",
       "    <tr>\n",
       "      <th>2022-01-20 17:35:00+00:00</th>\n",
       "      <td>3244.38</td>\n",
       "      <td>3245.12</td>\n",
       "      <td>3244.33</td>\n",
       "      <td>3244.46</td>\n",
       "      <td>3244.46</td>\n",
       "      <td>6810624</td>\n",
       "    </tr>\n",
       "    <tr>\n",
       "      <th>2022-01-20 17:40:00+00:00</th>\n",
       "      <td>3242.41</td>\n",
       "      <td>3242.41</td>\n",
       "      <td>3240.64</td>\n",
       "      <td>3240.64</td>\n",
       "      <td>3240.64</td>\n",
       "      <td>7105536</td>\n",
       "    </tr>\n",
       "    <tr>\n",
       "      <th>2022-01-20 17:45:00+00:00</th>\n",
       "      <td>3240.04</td>\n",
       "      <td>3240.04</td>\n",
       "      <td>3236.33</td>\n",
       "      <td>3236.33</td>\n",
       "      <td>3236.33</td>\n",
       "      <td>2783232</td>\n",
       "    </tr>\n",
       "    <tr>\n",
       "      <th>2022-01-20 17:50:00+00:00</th>\n",
       "      <td>3236.20</td>\n",
       "      <td>3236.20</td>\n",
       "      <td>3236.20</td>\n",
       "      <td>3236.20</td>\n",
       "      <td>3236.20</td>\n",
       "      <td>334848</td>\n",
       "    </tr>\n",
       "    <tr>\n",
       "      <th>2022-01-20 17:51:00+00:00</th>\n",
       "      <td>3235.60</td>\n",
       "      <td>3235.60</td>\n",
       "      <td>3235.60</td>\n",
       "      <td>3235.60</td>\n",
       "      <td>3235.60</td>\n",
       "      <td>0</td>\n",
       "    </tr>\n",
       "  </tbody>\n",
       "</table>\n",
       "<p>4196 rows × 6 columns</p>\n",
       "</div>"
      ],
      "text/plain": [
       "                              Open     High      Low    Close  Adj Close  \\\n",
       "Datetime                                                                   \n",
       "2022-01-06 00:00:00+00:00  3545.65  3545.65  3536.39  3536.39    3536.39   \n",
       "2022-01-06 00:05:00+00:00  3536.30  3538.52  3536.30  3538.47    3538.47   \n",
       "2022-01-06 00:10:00+00:00  3538.58  3538.91  3535.28  3538.91    3538.91   \n",
       "2022-01-06 00:15:00+00:00  3541.70  3546.87  3541.70  3546.87    3546.87   \n",
       "2022-01-06 00:20:00+00:00  3544.46  3544.46  3531.40  3531.40    3531.40   \n",
       "...                            ...      ...      ...      ...        ...   \n",
       "2022-01-20 17:35:00+00:00  3244.38  3245.12  3244.33  3244.46    3244.46   \n",
       "2022-01-20 17:40:00+00:00  3242.41  3242.41  3240.64  3240.64    3240.64   \n",
       "2022-01-20 17:45:00+00:00  3240.04  3240.04  3236.33  3236.33    3236.33   \n",
       "2022-01-20 17:50:00+00:00  3236.20  3236.20  3236.20  3236.20    3236.20   \n",
       "2022-01-20 17:51:00+00:00  3235.60  3235.60  3235.60  3235.60    3235.60   \n",
       "\n",
       "                              Volume  \n",
       "Datetime                              \n",
       "2022-01-06 00:00:00+00:00          0  \n",
       "2022-01-06 00:05:00+00:00   52967424  \n",
       "2022-01-06 00:10:00+00:00   15769600  \n",
       "2022-01-06 00:15:00+00:00  103151616  \n",
       "2022-01-06 00:20:00+00:00  405878784  \n",
       "...                              ...  \n",
       "2022-01-20 17:35:00+00:00    6810624  \n",
       "2022-01-20 17:40:00+00:00    7105536  \n",
       "2022-01-20 17:45:00+00:00    2783232  \n",
       "2022-01-20 17:50:00+00:00     334848  \n",
       "2022-01-20 17:51:00+00:00          0  \n",
       "\n",
       "[4196 rows x 6 columns]"
      ]
     },
     "execution_count": 10,
     "metadata": {},
     "output_type": "execute_result"
    }
   ],
   "source": [
    "df"
   ]
  },
  {
   "cell_type": "code",
   "execution_count": 11,
   "id": "6583dad1-2d08-4744-af79-a538f522d8d4",
   "metadata": {},
   "outputs": [
    {
     "data": {
      "text/plain": [
       "<AxesSubplot:xlabel='Datetime'>"
      ]
     },
     "execution_count": 11,
     "metadata": {},
     "output_type": "execute_result"
    },
    {
     "data": {
      "image/png": "[encoded data removed]",
      "text/plain": [
       "<Figure size 432x288 with 1 Axes>"
      ]
     },
     "metadata": {
      "needs_background": "light"
     },
     "output_type": "display_data"
    }
   ],
   "source": [
    "df['Close'].plot()"
   ]
  },
  {
   "cell_type": "code",
   "execution_count": 7,
   "id": "51274404-3781-4a4a-8fdc-d5b112a24244",
   "metadata": {},
   "outputs": [],
   "source": [
    "#df.to_csv(f\"{asset}_prices_{inter}.csv\")"
   ]
  },
  {
   "cell_type": "code",
   "execution_count": null,
   "id": "283dd5c0-8ef1-4208-b47f-abe69ce2d5e9",
   "metadata": {},
   "outputs": [],
   "source": []
  },
  {
   "cell_type": "code",
   "execution_count": null,
   "id": "bf3492af-3b94-4cc4-8644-7192c6bbc0fd",
   "metadata": {},
   "outputs": [],
   "source": []
  }
 ],
 "metadata": {
  "kernelspec": {
   "display_name": "Python 3 (ipykernel)",
   "language": "python",
   "name": "python3"
  },
  "language_info": {
   "codemirror_mode": {
    "name": "ipython",
    "version": 3
   },
   "file_extension": ".py",
   "mimetype": "text/x-python",
   "name": "python",
   "nbconvert_exporter": "python",
   "pygments_lexer": "ipython3",
   "version": "3.8.8"
  }
 },
 "nbformat": 4,
 "nbformat_minor": 5
}
