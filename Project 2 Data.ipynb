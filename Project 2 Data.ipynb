{
 "cells": [
  {
   "cell_type": "code",
   "execution_count": 5,
   "id": "83c11202",
   "metadata": {},
   "outputs": [
    {
     "ename": "ModuleNotFoundError",
     "evalue": "No module named 'yfinance'",
     "output_type": "error",
     "traceback": [
      "\u001b[0;31m---------------------------------------------------------------------------\u001b[0m",
      "\u001b[0;31mModuleNotFoundError\u001b[0m                       Traceback (most recent call last)",
      "\u001b[0;32m<ipython-input-5-11827d4eaa2b>\u001b[0m in \u001b[0;36m<module>\u001b[0;34m\u001b[0m\n\u001b[1;32m      9\u001b[0m \u001b[0;32mfrom\u001b[0m \u001b[0mtalib\u001b[0m \u001b[0;32mimport\u001b[0m \u001b[0mMA_Type\u001b[0m \u001b[0;32mas\u001b[0m \u001b[0mma\u001b[0m\u001b[0;34m\u001b[0m\u001b[0;34m\u001b[0m\u001b[0m\n\u001b[1;32m     10\u001b[0m \u001b[0;32mimport\u001b[0m \u001b[0mpandas\u001b[0m \u001b[0;32mas\u001b[0m \u001b[0mpd\u001b[0m\u001b[0;34m\u001b[0m\u001b[0;34m\u001b[0m\u001b[0m\n\u001b[0;32m---> 11\u001b[0;31m \u001b[0;32mimport\u001b[0m \u001b[0myfinance\u001b[0m \u001b[0;32mas\u001b[0m \u001b[0myf\u001b[0m\u001b[0;34m\u001b[0m\u001b[0;34m\u001b[0m\u001b[0m\n\u001b[0m",
      "\u001b[0;31mModuleNotFoundError\u001b[0m: No module named 'yfinance'"
     ]
    }
   ],
   "source": [
    "import numpy as np  # noqa\n",
    "import pandas as pd  # noqa\n",
    "from pandas import DataFrame\n",
    "import matplotlib.pyplot as plt\n",
    "from datetime import datetime, timedelta\n",
    "import os\n",
    "from pathlib import Path\n",
    "import talib as ta\n",
    "from talib import MA_Type as ma\n",
    "import pandas as pd\n",
    "import yfinance as yf\n"
   ]
  },
  {
   "cell_type": "code",
   "execution_count": 3,
   "id": "4463a862",
   "metadata": {},
   "outputs": [],
   "source": [
    "asset = \"MSFT\" #ticker symbol or crypto \"BTC-USD\"\n",
    "inter = \"1m\" #stocks use 1m crypto use 5m\n",
    "period = \"7d\" #crypto use 14d stocks 7d\n",
    "timeperiod = 30\n",
    "std = 1.5"
   ]
  },
  {
   "cell_type": "code",
   "execution_count": 4,
   "id": "7b2c76b1",
   "metadata": {},
   "outputs": [
    {
     "ename": "NameError",
     "evalue": "name 'yf' is not defined",
     "output_type": "error",
     "traceback": [
      "\u001b[0;31m---------------------------------------------------------------------------\u001b[0m",
      "\u001b[0;31mNameError\u001b[0m                                 Traceback (most recent call last)",
      "\u001b[0;32m<ipython-input-4-fc5ded5b4798>\u001b[0m in \u001b[0;36m<module>\u001b[0;34m\u001b[0m\n\u001b[0;32m----> 1\u001b[0;31m \u001b[0mdf\u001b[0m \u001b[0;34m=\u001b[0m \u001b[0myf\u001b[0m\u001b[0;34m.\u001b[0m\u001b[0mdownload\u001b[0m\u001b[0;34m(\u001b[0m\u001b[0mtickers\u001b[0m\u001b[0;34m=\u001b[0m\u001b[0;34m{\u001b[0m\u001b[0masset\u001b[0m\u001b[0;34m}\u001b[0m\u001b[0;34m,\u001b[0m \u001b[0mperiod\u001b[0m \u001b[0;34m=\u001b[0m \u001b[0mperiod\u001b[0m\u001b[0;34m,\u001b[0m \u001b[0minterval\u001b[0m \u001b[0;34m=\u001b[0m \u001b[0minter\u001b[0m \u001b[0;34m,\u001b[0m \u001b[0mrounding\u001b[0m\u001b[0;34m=\u001b[0m \u001b[0;32mTrue\u001b[0m\u001b[0;34m)\u001b[0m\u001b[0;34m\u001b[0m\u001b[0;34m\u001b[0m\u001b[0m\n\u001b[0m",
      "\u001b[0;31mNameError\u001b[0m: name 'yf' is not defined"
     ]
    }
   ],
   "source": [
    "df = yf.download(tickers={asset}, period = period, interval = inter , rounding= True)"
   ]
  },
  {
   "cell_type": "code",
   "execution_count": 5,
   "id": "4f7b1b93",
   "metadata": {},
   "outputs": [
    {
     "data": {
      "text/html": [
       "<div>\n",
       "<style scoped>\n",
       "    .dataframe tbody tr th:only-of-type {\n",
       "        vertical-align: middle;\n",
       "    }\n",
       "\n",
       "    .dataframe tbody tr th {\n",
       "        vertical-align: top;\n",
       "    }\n",
       "\n",
       "    .dataframe thead th {\n",
       "        text-align: right;\n",
       "    }\n",
       "</style>\n",
       "<table border=\"1\" class=\"dataframe\">\n",
       "  <thead>\n",
       "    <tr style=\"text-align: right;\">\n",
       "      <th></th>\n",
       "      <th>Open</th>\n",
       "      <th>High</th>\n",
       "      <th>Low</th>\n",
       "      <th>Close</th>\n",
       "      <th>Adj Close</th>\n",
       "      <th>Volume</th>\n",
       "    </tr>\n",
       "    <tr>\n",
       "      <th>Datetime</th>\n",
       "      <th></th>\n",
       "      <th></th>\n",
       "      <th></th>\n",
       "      <th></th>\n",
       "      <th></th>\n",
       "      <th></th>\n",
       "    </tr>\n",
       "  </thead>\n",
       "  <tbody>\n",
       "    <tr>\n",
       "      <th>2022-01-07 09:30:00-05:00</th>\n",
       "      <td>314.15</td>\n",
       "      <td>315.00</td>\n",
       "      <td>313.55</td>\n",
       "      <td>314.52</td>\n",
       "      <td>314.52</td>\n",
       "      <td>1266090</td>\n",
       "    </tr>\n",
       "    <tr>\n",
       "      <th>2022-01-07 09:31:00-05:00</th>\n",
       "      <td>314.51</td>\n",
       "      <td>315.32</td>\n",
       "      <td>314.33</td>\n",
       "      <td>315.24</td>\n",
       "      <td>315.24</td>\n",
       "      <td>177362</td>\n",
       "    </tr>\n",
       "    <tr>\n",
       "      <th>2022-01-07 09:32:00-05:00</th>\n",
       "      <td>315.24</td>\n",
       "      <td>315.28</td>\n",
       "      <td>314.06</td>\n",
       "      <td>314.66</td>\n",
       "      <td>314.66</td>\n",
       "      <td>113985</td>\n",
       "    </tr>\n",
       "    <tr>\n",
       "      <th>2022-01-07 09:33:00-05:00</th>\n",
       "      <td>313.50</td>\n",
       "      <td>313.68</td>\n",
       "      <td>313.27</td>\n",
       "      <td>313.56</td>\n",
       "      <td>313.56</td>\n",
       "      <td>112925</td>\n",
       "    </tr>\n",
       "    <tr>\n",
       "      <th>2022-01-07 09:34:00-05:00</th>\n",
       "      <td>313.54</td>\n",
       "      <td>314.14</td>\n",
       "      <td>313.26</td>\n",
       "      <td>313.47</td>\n",
       "      <td>313.47</td>\n",
       "      <td>78540</td>\n",
       "    </tr>\n",
       "    <tr>\n",
       "      <th>...</th>\n",
       "      <td>...</td>\n",
       "      <td>...</td>\n",
       "      <td>...</td>\n",
       "      <td>...</td>\n",
       "      <td>...</td>\n",
       "      <td>...</td>\n",
       "    </tr>\n",
       "    <tr>\n",
       "      <th>2022-01-18 15:56:00-05:00</th>\n",
       "      <td>302.20</td>\n",
       "      <td>302.40</td>\n",
       "      <td>302.06</td>\n",
       "      <td>302.23</td>\n",
       "      <td>302.23</td>\n",
       "      <td>230814</td>\n",
       "    </tr>\n",
       "    <tr>\n",
       "      <th>2022-01-18 15:57:00-05:00</th>\n",
       "      <td>302.21</td>\n",
       "      <td>302.82</td>\n",
       "      <td>302.17</td>\n",
       "      <td>302.63</td>\n",
       "      <td>302.63</td>\n",
       "      <td>249918</td>\n",
       "    </tr>\n",
       "    <tr>\n",
       "      <th>2022-01-18 15:58:00-05:00</th>\n",
       "      <td>302.54</td>\n",
       "      <td>302.69</td>\n",
       "      <td>302.42</td>\n",
       "      <td>302.60</td>\n",
       "      <td>302.60</td>\n",
       "      <td>264540</td>\n",
       "    </tr>\n",
       "    <tr>\n",
       "      <th>2022-01-18 15:59:00-05:00</th>\n",
       "      <td>302.61</td>\n",
       "      <td>303.11</td>\n",
       "      <td>302.22</td>\n",
       "      <td>302.77</td>\n",
       "      <td>302.77</td>\n",
       "      <td>1013168</td>\n",
       "    </tr>\n",
       "    <tr>\n",
       "      <th>2022-01-18 16:00:00-05:00</th>\n",
       "      <td>302.65</td>\n",
       "      <td>302.65</td>\n",
       "      <td>302.65</td>\n",
       "      <td>302.65</td>\n",
       "      <td>302.65</td>\n",
       "      <td>0</td>\n",
       "    </tr>\n",
       "  </tbody>\n",
       "</table>\n",
       "<p>2731 rows × 6 columns</p>\n",
       "</div>"
      ],
      "text/plain": [
       "                             Open    High     Low   Close  Adj Close   Volume\n",
       "Datetime                                                                     \n",
       "2022-01-07 09:30:00-05:00  314.15  315.00  313.55  314.52     314.52  1266090\n",
       "2022-01-07 09:31:00-05:00  314.51  315.32  314.33  315.24     315.24   177362\n",
       "2022-01-07 09:32:00-05:00  315.24  315.28  314.06  314.66     314.66   113985\n",
       "2022-01-07 09:33:00-05:00  313.50  313.68  313.27  313.56     313.56   112925\n",
       "2022-01-07 09:34:00-05:00  313.54  314.14  313.26  313.47     313.47    78540\n",
       "...                           ...     ...     ...     ...        ...      ...\n",
       "2022-01-18 15:56:00-05:00  302.20  302.40  302.06  302.23     302.23   230814\n",
       "2022-01-18 15:57:00-05:00  302.21  302.82  302.17  302.63     302.63   249918\n",
       "2022-01-18 15:58:00-05:00  302.54  302.69  302.42  302.60     302.60   264540\n",
       "2022-01-18 15:59:00-05:00  302.61  303.11  302.22  302.77     302.77  1013168\n",
       "2022-01-18 16:00:00-05:00  302.65  302.65  302.65  302.65     302.65        0\n",
       "\n",
       "[2731 rows x 6 columns]"
      ]
     },
     "execution_count": 5,
     "metadata": {},
     "output_type": "execute_result"
    }
   ],
   "source": [
    "df"
   ]
  },
  {
   "cell_type": "code",
   "execution_count": 6,
   "id": "daecb5d5",
   "metadata": {},
   "outputs": [],
   "source": [
    "df.to_csv(f\"{asset}_prices_{inter}.csv\")"
   ]
  },
  {
   "cell_type": "code",
   "execution_count": null,
   "id": "025640ce",
   "metadata": {},
   "outputs": [],
   "source": []
  },
  {
   "cell_type": "code",
   "execution_count": null,
   "id": "dd2e1638",
   "metadata": {},
   "outputs": [],
   "source": []
  },
  {
   "cell_type": "code",
   "execution_count": null,
   "id": "3673df4d",
   "metadata": {},
   "outputs": [],
   "source": []
  }
 ],
 "metadata": {
  "kernelspec": {
   "display_name": "Python 3 (ipykernel)",
   "language": "python",
   "name": "python3"
  },
  "language_info": {
   "codemirror_mode": {
    "name": "ipython",
    "version": 3
   },
   "file_extension": ".py",
   "mimetype": "text/x-python",
   "name": "python",
   "nbconvert_exporter": "python",
   "pygments_lexer": "ipython3",
   "version": "3.8.8"
  }
 },
 "nbformat": 4,
 "nbformat_minor": 5
}
